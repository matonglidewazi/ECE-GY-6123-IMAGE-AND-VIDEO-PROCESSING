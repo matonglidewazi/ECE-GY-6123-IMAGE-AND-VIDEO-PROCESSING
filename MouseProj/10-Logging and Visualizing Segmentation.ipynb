{
 "cells": [
  {
   "cell_type": "code",
   "execution_count": 1,
   "metadata": {},
   "outputs": [],
   "source": [
    "import numpy as np\n",
    "import matplotlib.pyplot as plt\n",
    "import time\n",
    "\n",
    "from dataset import *\n",
    "from vnet import *\n",
    "from training import *\n",
    "from niiutility import *\n",
    "from loss import *\n",
    "\n",
    "%matplotlib inline\n",
    "%load_ext autoreload\n",
    "%autoreload 2"
   ]
  },
  {
   "cell_type": "code",
   "execution_count": 2,
   "metadata": {},
   "outputs": [],
   "source": [
    "import sys\n",
    "\n",
    "if not sys.warnoptions:\n",
    "    import warnings\n",
    "    warnings.simplefilter(\"ignore\")"
   ]
  },
  {
   "cell_type": "code",
   "execution_count": 3,
   "metadata": {},
   "outputs": [
    {
     "name": "stdout",
     "output_type": "stream",
     "text": [
      "using GPU for training\n"
     ]
    }
   ],
   "source": [
    "import torch\n",
    "import torch.nn as nn\n",
    "import torch.optim as optim\n",
    "\n",
    "from torch.utils.data import Dataset, DataLoader, sampler, SubsetRandomSampler\n",
    "from torchvision import transforms, utils\n",
    "\n",
    "import torch.nn.functional as F  # useful stateless functions\n",
    "import torchvision.transforms as T\n",
    "\n",
    "#------------------------------- GLOBAL VARIABLES -------------------------------------#\n",
    "\n",
    "USE_GPU = True\n",
    "BATCH_SIZE = 1\n",
    "NUM_WORKERS = 8\n",
    "NUM_TRAIN = 259\n",
    "LEARNING_RATE = 1e-2\n",
    "\n",
    "dtype = torch.float32 # we will be using float throughout this tutorial\n",
    "\n",
    "if USE_GPU and torch.cuda.is_available():\n",
    "    device = torch.device('cuda')\n",
    "    \n",
    "    # Some Magical Flags\n",
    "    torch.backends.cudnn.benchmark = True\n",
    "    torch.backends.cudnn.enabled = True\n",
    "    \n",
    "    print('using GPU for training')\n",
    "else:\n",
    "    device = torch.device('cpu')"
   ]
  },
  {
   "cell_type": "code",
   "execution_count": 4,
   "metadata": {},
   "outputs": [],
   "source": [
    "regen = False\n",
    "\n",
    "if regen:\n",
    "    data_index = np.arange(370)\n",
    "    data_idnex = np.stack ([np.random.shuffle(data_index[:259]),np.random.shuffle(data_index[259:])])\n",
    "    print(list(data_index))\n",
    "else:\n",
    "    data_index = np.array ([120, 148, 24, 124, 200, 76, 159, 186, 125, 164, 251, 155, 0, 252, 238, 103, 53, 179, 244, 149, 45, 31, 131, 115, 82, 216, 130, 213, 245, 199, 229, 254, 56, 158, 32, 86, 221, 84, 81, 196, 117, 38, 28, 218, 257, 7, 237, 181, 105, 194, 16, 104, 75, 78, 249, 87, 144, 1, 183, 203, 54, 255, 129, 253, 202, 25, 34, 132, 80, 89, 137, 201, 114, 189, 110, 4, 71, 195, 97, 33, 157, 21, 250,\n",
    "                            192, 258, 49, 47, 119, 191, 217, 143, 68, 190, 11, 176, 206, 108, 226, 50, 69, 118, 61, 35, 57, 243, 154, 15, 102, 146, 174, 163, 156, 233, 37, 180, 100, 184, 55, 239, 135, 151, 101, 205, 220, 169, 134, 228, 234, 51, 145, 29, 207, 141, 142, 44, 175, 12, 198, 52, 8, 30, 17, 10, 2, 126, 256, 40, 85, 46, 139, 178, 235, 23, 70, 188, 209, 93, 5, 153, 172, 127, 64, 241, 182, 18, 236, 187, 79, 210, 96,\n",
    "                            3, 99, 63, 123, 171, 48, 6, 165, 43, 9, 230, 211, 19, 242, 162, 161, 173, 73, 106, 59, 136, 90, 112, 167, 246, 227, 109, 225, 41, 160, 133, 22, 177, 168, 14, 152, 107, 122, 223, 74, 62, 185, 222, 13, 150, 42, 212, 248, 147, 128, 67, 83, 214, 94, 98, 219, 232, 58, 247, 88, 66, 140, 116, 92, 113, 215, 27, 60, 138, 231, 39, 72, 166, 170, 91, 77, 224, 208, 240, 95, 26, 204, 197, 121, 36, 111, 193,\n",
    "                            65, 20, 324, 330, 325, 262, 351, 366, 269, 365, 369, 297, 316, 363, 293, 267, 302, 313, 352, 307, 335, 290, 356, 286, 328, 320, 340, 333, 322, 355, 315, 296, 299, 312, 341, 261, 306, 282, 283, 292, 298, 321, 346, 310, 361, 265, 314, 331, 358, 305, 349, 276, 285, 368, 271, 317, 367, 336, 279, 275, 323, 277, 281, 337, 309, 260, 357, 266, 278, 294, 319, 332, 273, 303, 280, 284, 304, 334, 360, 300, 353, 308, 345, 364, 311, 270, 362, 339, 289, 342, 348, 263, 287, 274, 295, 327, 268, 272, 318, 354, 259, 329, 350, 359, 344, 338, 343, 288, 291, 347, 264, 326, 301])\n",
    "\n",
    "# I double checked SubsetRandomSampler and find that the data_index is sort of useless here\n",
    "\n",
    "dataset_trans = DatasetBVSegmentation(data_index,\n",
    "                         transform=transforms.Compose([\n",
    "                         ])\n",
    "                     )\n",
    "\n",
    "#-------------------------CREATE DATA LOADER FOR TRAIN AND VAL------------------------#\n",
    "\n",
    "data_size = len(dataset_trans)\n",
    "train_loader = DataLoader(dataset_trans, batch_size=BATCH_SIZE, \\\n",
    "                    sampler=sampler.SubsetRandomSampler(range(NUM_TRAIN)),\\\n",
    "                    num_workers=NUM_WORKERS)\n",
    "validation_loader = DataLoader(dataset_trans, batch_size=BATCH_SIZE,\n",
    "                    sampler=sampler.SubsetRandomSampler(range(NUM_TRAIN,data_size)),\\\n",
    "                    num_workers=NUM_WORKERS)"
   ]
  },
  {
   "cell_type": "code",
   "execution_count": null,
   "metadata": {
    "scrolled": true
   },
   "outputs": [],
   "source": [
    "for i_batch, sample_batched in enumerate(train_loader):\n",
    "    print(i_batch, sample_batched['image'].size(), \\\n",
    "          sample_batched['label'].size())\n",
    "    show_batch_image(sample_batched['image'],BATCH_SIZE,None)\n",
    "    print(sample_batched['label'])\n",
    "\n",
    "    # observe 4th batch and stop.\n",
    "    if i_batch == 3:\n",
    "        break"
   ]
  },
  {
   "cell_type": "code",
   "execution_count": 5,
   "metadata": {},
   "outputs": [
    {
     "name": "stdout",
     "output_type": "stream",
     "text": [
      "loading checkpoint 'checkpoint2019-05-01 09:49:28.653642.pth'\n",
      "loaded checkpoint 'checkpoint2019-05-01 09:49:28.653642.pth' (epoch 1051)\n"
     ]
    }
   ],
   "source": [
    "#-------------------------Locading Localization Network-------------------------------#\n",
    "\n",
    "LocPATH  = 'checkpoint2019-05-01 09:49:28.653642.pth'\n",
    "Locmodel = LNet(img_size=(128, 128, 128), out_size=6)\n",
    "\n",
    "if os.path.isfile(LocPATH):\n",
    "    print(\"loading checkpoint '{}'\".format(LocPATH))\n",
    "    checkpoint = torch.load(LocPATH, map_location=torch.device('cpu'))\n",
    "    Locmodel.load_state_dict(checkpoint['state_dict'])\n",
    "    print(\"loaded checkpoint '{}' (epoch {})\"\n",
    "        .format(LocPATH, checkpoint['epoch']))\n",
    "    \n",
    "Locmodel = Locmodel.to(device=device)"
   ]
  },
  {
   "cell_type": "code",
   "execution_count": 6,
   "metadata": {},
   "outputs": [
    {
     "name": "stdout",
     "output_type": "stream",
     "text": [
      "loading checkpoint 'checkpoint2019-05-11 19:09:57.117475.pth'\n",
      "loaded checkpoint 'checkpoint2019-05-11 19:09:57.117475.pth' (epoch 401)\n"
     ]
    }
   ],
   "source": [
    "\n",
    "#-------------------------Locading Segmentation Network-------------------------------#\n",
    "\n",
    "SegPATH = 'checkpoint2019-05-11 19:09:57.117475.pth'\n",
    "# SegPATH = 'checkpoint2019-05-13 09:27:46.777908.pth'\n",
    "Segmodel = VNet(classnum=1, slim=True)\n",
    "\n",
    "if os.path.isfile(SegPATH):\n",
    "    print(\"loading checkpoint '{}'\".format(SegPATH))\n",
    "    checkpoint = torch.load(SegPATH, map_location=torch.device('cpu'))\n",
    "    Segmodel.load_state_dict(checkpoint['state_dict'])\n",
    "    print(\"loaded checkpoint '{}' (epoch {})\"\n",
    "        .format(SegPATH, checkpoint['epoch']))\n",
    "    \n",
    "Segmodel = Segmodel.to(device=device)"
   ]
  },
  {
   "cell_type": "code",
   "execution_count": 7,
   "metadata": {},
   "outputs": [],
   "source": [
    "def check_seg(Locmodel, Segmodel, dataloader, device, dtype, nstd):\n",
    "    Locmodel.eval()\n",
    "    Segmodel.eval()  # set model to evaluation mode\n",
    "    with torch.no_grad():\n",
    "        DSC = 0\n",
    "        N = len(dataloader)\n",
    "        DSCarray = []\n",
    "        for t, batch in tqdm(enumerate(dataloader)):\n",
    "            x = batch['image']\n",
    "            y = batch['label']\n",
    "            xhalf = batch['half']\n",
    "            x = x.numpy()  \n",
    "            y = y.numpy()\n",
    "            xhalf = xhalf.to(device=device, dtype=dtype)\n",
    "\n",
    "            # Getting the bbox from region proposal network\n",
    "            batchSize = BATCH_SIZE\n",
    "\n",
    "            xslice = np.zeros(xhalf.shape) - 64 #same mean removal\n",
    "            yslice = np.zeros(xhalf.shape) # generate ground truth mask\n",
    "            \n",
    "            ###\n",
    "            \n",
    "            loc = Locmodel(xhalf)\n",
    "\n",
    "            yhat = loc.cpu().numpy()\n",
    "                        \n",
    "            xcenter = np.mean(yhat[:,0:2], axis=1)\n",
    "            ycenter = np.mean(yhat[:,2:4], axis=1)\n",
    "            zcenter = np.mean(yhat[:,4:6], axis=1)\n",
    "            \n",
    "            xcenter, ycenter, zcenter = np.clip ([xcenter, ycenter, zcenter], a_min=32, a_max=96)\n",
    "           \n",
    "            yhat[:,0] = xcenter - 32\n",
    "            yhat[:,0] = np.max((yhat[:,0], 0))\n",
    "\n",
    "            yhat[:,2] = ycenter - 32\n",
    "            yhat[:,2] = np.max((yhat[:,2], 0))\n",
    "\n",
    "            yhat[:,4] = zcenter - 32\n",
    "            yhat[:,4] = np.max((yhat[:,4], 0))\n",
    "\n",
    "            yhat[:,1] = xcenter + 32\n",
    "            yhat[:,1] = np.min((yhat[:,1], 128))\n",
    "\n",
    "            yhat[:,3] = ycenter + 32\n",
    "            yhat[:,3] = np.min((yhat[:,3], 128))\n",
    "\n",
    "            yhat[:,5] = zcenter + 32\n",
    "            yhat[:,5] = np.min((yhat[:,5], 128))\n",
    "            \n",
    "            yhat = np.round(yhat)*2\n",
    "                        \n",
    "            ###\n",
    "            \n",
    "            for b in range(batchSize):\n",
    "\n",
    "                ysingle = y[b]\n",
    "                x1,x2,y1,y2,z1,z2 = loadbvmask(ysingle) # get ground truth bv box tuple\n",
    "                \n",
    "                xd = x2-x1 # x distance\n",
    "                yd = y2-y1\n",
    "                zd = z2-z1\n",
    "                \n",
    "                xd, yd, zd = np.clip ([xd, yd, zd], a_min=0, a_max=127)\n",
    "\n",
    "                xo = np.random.randint(128 - xd) # x offset\n",
    "                yo = np.random.randint(128 - yd) # x offset\n",
    "                zo = np.random.randint(128 - zd) # x offset\n",
    "\n",
    "                xx1 = x1 - xo\n",
    "                yy1 = y1 - yo\n",
    "                zz1 = z1 - zo\n",
    "\n",
    "                xx1, yy1, zz1 = np.clip ([xx1, yy1, zz1], a_min=0, a_max=128)\n",
    "                \n",
    "                xh1, xh2, yh1, yh2, zh1, zh2 = yhat[b]\n",
    "                xh1, xh2, yh1, yh2, zh1, zh2 = int(xh1), int(xh2), int(yh1), int(yh2), int(zh1), int(zh2)\n",
    "                                \n",
    "                xslice[b] = x[b, :, xh1:xh2, yh1:yh2, zh1:zh2]\n",
    "                yslice[b] = y[b, :, xh1:xh2, yh1:yh2, zh1:zh2]\n",
    "\n",
    "                # xslice[b] = x[b, :, xx1:xx1+128, yy1:yy1+128, zz1:zz1+128]\n",
    "                # yslice[b] = y[b, :, xx1:xx1+128, yy1:yy1+128, zz1:zz1+128]\n",
    "            \n",
    "            xslice = torch.from_numpy(xslice)            \n",
    "            xslice = xslice.to(device=device, dtype=dtype)\n",
    "            \n",
    "            scores = Segmodel(xslice)\n",
    "            scores = scores.cpu().numpy()\n",
    "            scores = (scores - np.min(scores))/(np.max(scores)-np.min(scores))\n",
    "            \n",
    "            mean = np.mean(scores)\n",
    "            std = np.std(scores)\n",
    "            \n",
    "            scores = (scores> mean+nstd*std).astype(np.int16)\n",
    "            \n",
    "            union = scores + yslice\n",
    "            intersect = scores*yslice\n",
    "                        \n",
    "            localDSC = 2*np.sum(intersect)/(np.sum(yslice)+np.sum(scores))\n",
    "            \n",
    "            DSC += localDSC\n",
    "            DSCarray.append(localDSC)\n",
    "            # print(localDSC)\n",
    "            \n",
    "            # f, (ax1, ax2) = plt.subplots(1, 2, sharey=True)\n",
    "            \n",
    "            # ax1.imshow(scores[0,0,64,:,:], cmap='gray')\n",
    "            # ax2.imshow(yslice[0,0,64,:,:], cmap='gray')\n",
    "            # plt.show()\n",
    "            \n",
    "        print(DSC/N)\n",
    "        return DSCarray"
   ]
  },
  {
   "cell_type": "code",
   "execution_count": 8,
   "metadata": {},
   "outputs": [],
   "source": [
    "search = np.linspace(4,6, num=10)"
   ]
  },
  {
   "cell_type": "code",
   "execution_count": 9,
   "metadata": {
    "scrolled": false
   },
   "outputs": [
    {
     "name": "stderr",
     "output_type": "stream",
     "text": [
      "111it [08:11,  4.29s/it]"
     ]
    },
    {
     "name": "stdout",
     "output_type": "stream",
     "text": [
      "0.900164520662991\n"
     ]
    },
    {
     "name": "stderr",
     "output_type": "stream",
     "text": [
      "\n"
     ]
    }
   ],
   "source": [
    "DSCdist = check_seg(Locmodel, Segmodel, validation_loader, device, dtype, 4.8)"
   ]
  },
  {
   "cell_type": "code",
   "execution_count": 49,
   "metadata": {},
   "outputs": [
    {
     "data": {
      "image/png": "[encoded data removed]",
      "text/plain": [
       "<Figure size 1080x360 with 1 Axes>"
      ]
     },
     "metadata": {
      "needs_background": "light"
     },
     "output_type": "display_data"
    }
   ],
   "source": [
    "DSCdist = np.array(DSCdist)\n",
    "plt.figure(figsize=(15,5))\n",
    "plt.ylabel('Number of image out of 111')\n",
    "plt.xlabel('Dice Coeff of BV Segmentation')\n",
    "plt.hist(DSCdist, 100, range=(0,1), rwidth=0.8)\n",
    "plt.legend(['Muti-Resolution Loclization + Segmentation, mean=0.9001'])\n",
    "plt.axvline(x=0.9001, color='r')\n",
    "plt.xticks(np.arange(0, 1.05, step=0.05), rotation=90)\n",
    "plt.show()"
   ]
  },
  {
   "cell_type": "code",
   "execution_count": 12,
   "metadata": {
    "scrolled": false
   },
   "outputs": [
    {
     "name": "stderr",
     "output_type": "stream",
     "text": [
      "259it [03:08,  1.52it/s]"
     ]
    },
    {
     "name": "stdout",
     "output_type": "stream",
     "text": [
      "0.8919051005736826\n"
     ]
    },
    {
     "name": "stderr",
     "output_type": "stream",
     "text": [
      "\n"
     ]
    }
   ],
   "source": [
    "check_seg(Locmodel, Segmodel, train_loader, device, dtype, 5.0)"
   ]
  },
  {
   "cell_type": "code",
   "execution_count": 13,
   "metadata": {},
   "outputs": [],
   "source": [
    "def compute_saliency_maps(X, y, model):\n",
    "    \"\"\"\n",
    "    Compute a class saliency map using the model for images X and labels y.\n",
    "\n",
    "    Input:\n",
    "    - X: Input images; Tensor of shape (N, 1, H, W, D)\n",
    "    - y: Labels for X; LongTensor of shape (N,), actuually one label corresponds to one outout unit. in your case,\n",
    "    just try to choose one of the unit from x,y,z centroid\n",
    "    \n",
    "    - model: A pretrained CNN that will be used to compute the saliency map.\n",
    "\n",
    "    Returns:\n",
    "    - saliency: A Tensor of shape (N, H, W, D) giving the saliency maps for the input\n",
    "    images.\n",
    "    \"\"\"\n",
    "    # Make sure the model is in \"test\" mode\n",
    "    model.eval()\n",
    "    \n",
    "    # Make input tensor require gradient\n",
    "    X.requires_grad_()\n",
    "    ##############################################################################\n",
    "    # Perform a forward and backward pass through the model to compute the gradient \n",
    "    # of the correct class score with respect to each input image. You first want \n",
    "    # to compute the loss over the correct scores (we'll combine losses across a batch\n",
    "    # by summing), and then compute the gradients with a backward pass.\n",
    "    ##############################################################################\n",
    "    scores = model(X)\n",
    "    \n",
    "    # Get the correct class computed scores.\n",
    "    scores = scores.gather(1, y.view(-1, 1)).squeeze()  \n",
    "    \n",
    "    # Backward pass, need to supply initial gradients of same tensor shape as scores.\n",
    "    scores.backward(torch.tensor(10.0).cuda(device))\n",
    "    \n",
    "    # Get gradient for image.\n",
    "    saliency = X.grad.data\n",
    "    \n",
    "    saliency = saliency.abs()\n",
    "    saliency = saliency.squeeze()\n",
    "    ##############################################################################\n",
    "    return saliency"
   ]
  },
  {
   "cell_type": "code",
   "execution_count": null,
   "metadata": {},
   "outputs": [],
   "source": []
  }
 ],
 "metadata": {
  "kernelspec": {
   "display_name": "Python 3",
   "language": "python",
   "name": "python3"
  },
  "language_info": {
   "codemirror_mode": {
    "name": "ipython",
    "version": 3
   },
   "file_extension": ".py",
   "mimetype": "text/x-python",
   "name": "python",
   "nbconvert_exporter": "python",
   "pygments_lexer": "ipython3",
   "version": "3.7.3"
  }
 },
 "nbformat": 4,
 "nbformat_minor": 2
}
