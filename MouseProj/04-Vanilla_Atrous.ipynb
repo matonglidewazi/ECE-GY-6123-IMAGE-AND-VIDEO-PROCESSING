{
 "cells": [
  {
   "cell_type": "markdown",
   "metadata": {},
   "source": [
    "# 3. Multi-class Vnet on BV"
   ]
  },
  {
   "cell_type": "code",
   "execution_count": 1,
   "metadata": {},
   "outputs": [],
   "source": [
    "import numpy as np\n",
    "import matplotlib.pyplot as plt\n",
    "\n",
    "from dataset import *\n",
    "from vnet import *\n",
    "from training import *\n",
    "from niiutility import show_image, show_batch_image\n",
    "\n",
    "%matplotlib inline\n",
    "%load_ext autoreload\n",
    "%autoreload 2"
   ]
  },
  {
   "cell_type": "markdown",
   "metadata": {},
   "source": [
    "## 3.1 Setup Torch Global Variable, load memory map "
   ]
  },
  {
   "cell_type": "code",
   "execution_count": 2,
   "metadata": {},
   "outputs": [
    {
     "name": "stdout",
     "output_type": "stream",
     "text": [
      "using GPU for training\n"
     ]
    }
   ],
   "source": [
    "import torch\n",
    "import torch.nn as nn\n",
    "import torch.optim as optim\n",
    "\n",
    "from torch.utils.data import Dataset, DataLoader, sampler, SubsetRandomSampler\n",
    "from torchvision import transforms, utils\n",
    "\n",
    "import torch.nn.functional as F  # useful stateless functions\n",
    "import torchvision.transforms as T\n",
    "\n",
    "#------------------------------- GLOBAL VARIABLES -------------------------------------#\n",
    "\n",
    "USE_GPU = True\n",
    "BATCH_SIZE = 6\n",
    "NUM_WORKERS = 6\n",
    "NUM_TRAIN = 72\n",
    "LEARNING_RATE = 1e-3\n",
    "\n",
    "dtype = torch.float32 # we will be using float throughout this tutorial\n",
    "\n",
    "if USE_GPU and torch.cuda.is_available():\n",
    "    device = torch.device('cuda')\n",
    "    print('using GPU for training')\n",
    "else:\n",
    "    device = torch.device('cpu')"
   ]
  },
  {
   "cell_type": "code",
   "execution_count": 3,
   "metadata": {},
   "outputs": [],
   "source": [
    "#-------------------------LOAD THE DATA SET-------------------------------------------#\n",
    "\n",
    "data_index = np.arange(107)\n",
    "data_index = np.delete(data_index, 46)\n",
    "dataset_trans = niiMaskDataset(data_index, \n",
    "                         transform=transforms.Compose([\n",
    "                             downSample(2),\n",
    "                             RandomFilp(0.5),\n",
    "                             RandomAffine(15, 10)\n",
    "                         ])\n",
    "                     )\n",
    "#-------------------------CREATE DATA LOADER FOR TRAIN AND VAL------------------------#\n",
    "\n",
    "data_size = len(dataset_trans)\n",
    "train_loader = DataLoader(dataset_trans, batch_size=BATCH_SIZE, \\\n",
    "                    sampler=sampler.SubsetRandomSampler(range(NUM_TRAIN)),\\\n",
    "                    num_workers=NUM_WORKERS)\n",
    "validation_loader = DataLoader(dataset_trans, batch_size=BATCH_SIZE,\n",
    "                    sampler=sampler.SubsetRandomSampler(range(NUM_TRAIN,data_size)),\\\n",
    "                    num_workers=NUM_WORKERS)"
   ]
  },
  {
   "cell_type": "markdown",
   "metadata": {},
   "source": [
    "* Print first 4 batch of data"
   ]
  },
  {
   "cell_type": "code",
   "execution_count": 4,
   "metadata": {},
   "outputs": [
    {
     "name": "stdout",
     "output_type": "stream",
     "text": [
      "0 torch.Size([2, 1, 64, 96, 96]) torch.Size([2, 1, 64, 96, 96])\n",
      "1 torch.Size([2, 1, 64, 96, 96]) torch.Size([2, 1, 64, 96, 96])\n",
      "2 torch.Size([2, 1, 64, 96, 96]) torch.Size([2, 1, 64, 96, 96])\n",
      "3 torch.Size([2, 1, 64, 96, 96]) torch.Size([2, 1, 64, 96, 96])\n"
     ]
    },
    {
     "data": {
      "image/png": "[encoded data removed]",
      "text/plain": [
       "<Figure size 432x288 with 2 Axes>"
      ]
     },
     "metadata": {
      "needs_background": "light"
     },
     "output_type": "display_data"
    },
    {
     "data": {
      "image/png": "[encoded data removed]",
      "text/plain": [
       "<Figure size 432x288 with 2 Axes>"
      ]
     },
     "metadata": {
      "needs_background": "light"
     },
     "output_type": "display_data"
    }
   ],
   "source": [
    "for i_batch, sample_batched in enumerate(train_loader):\n",
    "    print(i_batch, sample_batched['image'].size(), \\\n",
    "          sample_batched['label'].size())\n",
    "    # observe 4th batch and stop.\n",
    "    if i_batch == 3:\n",
    "        show_batch_image(sample_batched['image'],sample_batched['label'],BATCH_SIZE, level=2)\n",
    "        break"
   ]
  },
  {
   "cell_type": "code",
   "execution_count": 4,
   "metadata": {
    "scrolled": true
   },
   "outputs": [],
   "source": [
    "from Atrous import Atrous\n",
    "\n",
    "#-------------------------NEW MODEL INIT WEIGHT--------------------------------------#\n",
    "\n",
    "model = Atrous(classnum=1)\n",
    "weights_init(model)\n",
    "optimizer = optim.Adam(model.parameters(), lr=LEARNING_RATE)"
   ]
  },
  {
   "cell_type": "code",
   "execution_count": null,
   "metadata": {},
   "outputs": [],
   "source": [
    "#-------------------------CHECK SHAPE IF STRUCTURE CHANGE----------------------------#\n",
    "\n",
    "shape_test(model, torch.device('cpu'), dtype)"
   ]
  },
  {
   "cell_type": "code",
   "execution_count": null,
   "metadata": {
    "scrolled": false
   },
   "outputs": [
    {
     "name": "stdout",
     "output_type": "stream",
     "text": [
      "epoch 0 begins: \n",
      "     Iteration 0, loss = 0.9863\n",
      "     Iteration 10, loss = 0.9506\n",
      "     validation loss = 1.0000\n",
      "epoch 1 begins: \n",
      "     Iteration 0, loss = 0.9701\n",
      "     Iteration 10, loss = 0.9350\n",
      "     validation loss = 0.9387\n",
      "epoch 2 begins: \n",
      "     Iteration 0, loss = 0.9298\n",
      "     Iteration 10, loss = 0.9222\n",
      "     validation loss = 0.9682\n",
      "epoch 3 begins: \n",
      "     Iteration 0, loss = 0.9584\n",
      "     Iteration 10, loss = 0.9214\n",
      "     validation loss = 0.9482\n",
      "epoch 4 begins: \n",
      "     Iteration 0, loss = 0.8967\n",
      "     Iteration 10, loss = 0.9289\n",
      "     validation loss = 0.9746\n",
      "epoch 5 begins: \n",
      "     Iteration 0, loss = 0.9113\n",
      "     Iteration 10, loss = 0.9115\n",
      "     validation loss = 0.9642\n",
      "epoch 6 begins: \n",
      "     Iteration 0, loss = 0.9467\n",
      "     Iteration 10, loss = 0.9246\n",
      "     validation loss = 0.9758\n",
      "epoch 7 begins: \n",
      "     Iteration 0, loss = 0.9149\n",
      "     Iteration 10, loss = 0.9407\n",
      "     validation loss = 0.9488\n",
      "epoch 8 begins: \n",
      "     Iteration 0, loss = 0.9461\n",
      "     Iteration 10, loss = 0.8905\n",
      "     validation loss = 0.9540\n",
      "epoch 9 begins: \n",
      "     Iteration 0, loss = 0.9349\n",
      "     Iteration 10, loss = 0.9240\n",
      "     validation loss = 0.9179\n",
      "epoch 10 begins: \n",
      "     Iteration 0, loss = 0.8919\n",
      "     Iteration 10, loss = 0.8537\n",
      "     validation loss = 0.9281\n",
      "epoch 11 begins: \n",
      "     Iteration 0, loss = 0.8458\n",
      "     Iteration 10, loss = 0.8887\n",
      "     validation loss = 0.9369\n",
      "epoch 12 begins: \n",
      "     Iteration 0, loss = 0.8916\n",
      "     Iteration 10, loss = 0.9032\n",
      "     validation loss = 0.9303\n",
      "epoch 13 begins: \n",
      "     Iteration 0, loss = 0.9233\n",
      "     Iteration 10, loss = 0.8742\n",
      "     validation loss = 0.9380\n",
      "epoch 14 begins: \n",
      "     Iteration 0, loss = 0.8797\n",
      "     Iteration 10, loss = 0.8573\n",
      "     validation loss = 0.9421\n",
      "epoch 15 begins: \n",
      "     Iteration 0, loss = 0.8859\n",
      "     Iteration 10, loss = 0.8843\n",
      "     validation loss = 0.9539\n",
      "epoch 16 begins: \n",
      "     Iteration 0, loss = 0.9368\n",
      "     Iteration 10, loss = 0.9174\n",
      "     validation loss = 0.9649\n",
      "epoch 17 begins: \n",
      "     Iteration 0, loss = 0.8801\n",
      "     Iteration 10, loss = 0.8548\n",
      "     validation loss = 0.9456\n",
      "epoch 18 begins: \n",
      "     Iteration 0, loss = 0.8936\n",
      "     Iteration 10, loss = 0.8469\n",
      "     validation loss = 0.9211\n",
      "epoch 19 begins: \n",
      "     Iteration 0, loss = 0.9227\n",
      "     Iteration 10, loss = 0.9206\n",
      "     validation loss = 0.9227\n",
      "epoch 20 begins: \n",
      "     Iteration 0, loss = 0.8921\n",
      "     Iteration 10, loss = 0.9348\n",
      "     validation loss = 0.9213\n",
      "Epoch    20: reducing learning rate of group 0 to 1.0000e-04.\n",
      "epoch 21 begins: \n",
      "     Iteration 0, loss = 0.9076\n",
      "     Iteration 10, loss = 0.8845\n",
      "     validation loss = 0.9186\n",
      "epoch 22 begins: \n",
      "     Iteration 0, loss = 0.9197\n",
      "     Iteration 10, loss = 0.8585\n",
      "     validation loss = 0.8960\n",
      "epoch 23 begins: \n",
      "     Iteration 0, loss = 0.9285\n",
      "     Iteration 10, loss = 0.8198\n",
      "     validation loss = 0.9097\n",
      "epoch 24 begins: \n",
      "     Iteration 0, loss = 0.8238\n",
      "     Iteration 10, loss = 0.8454\n",
      "     validation loss = 0.9116\n",
      "epoch 25 begins: \n",
      "     Iteration 0, loss = 0.9207\n",
      "     Iteration 10, loss = 0.8676\n",
      "     validation loss = 0.8937\n",
      "epoch 26 begins: \n",
      "     Iteration 0, loss = 0.8159\n",
      "     Iteration 10, loss = 0.8716\n",
      "     validation loss = 0.8946\n",
      "epoch 27 begins: \n",
      "     Iteration 0, loss = 0.8101\n",
      "     Iteration 10, loss = 0.8609\n",
      "     validation loss = 0.9006\n",
      "epoch 28 begins: \n",
      "     Iteration 0, loss = 0.7744\n",
      "     Iteration 10, loss = 0.8569\n",
      "     validation loss = 0.9091\n",
      "epoch 29 begins: \n",
      "     Iteration 0, loss = 0.8766\n",
      "     Iteration 10, loss = 0.8427\n",
      "     validation loss = 0.8876\n",
      "epoch 30 begins: \n",
      "     Iteration 0, loss = 0.8566\n",
      "     Iteration 10, loss = 0.8799\n",
      "     validation loss = 0.9171\n",
      "epoch 31 begins: \n",
      "     Iteration 0, loss = 0.8946\n",
      "     Iteration 10, loss = 0.8662\n",
      "     validation loss = 0.9158\n",
      "epoch 32 begins: \n",
      "     Iteration 0, loss = 0.8465\n",
      "     Iteration 10, loss = 0.8414\n",
      "     validation loss = 0.8931\n",
      "epoch 33 begins: \n",
      "     Iteration 0, loss = 0.8954\n",
      "     Iteration 10, loss = 0.8516\n",
      "     validation loss = 0.9088\n",
      "epoch 34 begins: \n",
      "     Iteration 0, loss = 0.8413\n",
      "     Iteration 10, loss = 0.8543\n",
      "     validation loss = 0.8894\n",
      "epoch 35 begins: \n",
      "     Iteration 0, loss = 0.8653\n",
      "     Iteration 10, loss = 0.8985\n",
      "     validation loss = 0.9088\n",
      "epoch 36 begins: \n",
      "     Iteration 0, loss = 0.8225\n",
      "     Iteration 10, loss = 0.8761\n",
      "     validation loss = 0.8900\n",
      "epoch 37 begins: \n",
      "     Iteration 0, loss = 0.9133\n",
      "     Iteration 10, loss = 0.8671\n",
      "     validation loss = 0.8986\n",
      "epoch 38 begins: \n",
      "     Iteration 0, loss = 0.9229\n",
      "     Iteration 10, loss = 0.9458\n",
      "     validation loss = 0.9091\n",
      "epoch 39 begins: \n",
      "     Iteration 0, loss = 0.8480\n",
      "     Iteration 10, loss = 0.8603\n",
      "     validation loss = 0.8922\n",
      "epoch 40 begins: \n",
      "     Iteration 0, loss = 0.8793\n",
      "     Iteration 10, loss = 0.9379\n",
      "     validation loss = 0.8880\n",
      "Epoch    40: reducing learning rate of group 0 to 1.0000e-05.\n",
      "epoch 41 begins: \n",
      "     Iteration 0, loss = 0.8402\n",
      "     Iteration 10, loss = 0.8193\n",
      "     validation loss = 0.9046\n",
      "epoch 42 begins: \n",
      "     Iteration 0, loss = 0.8536\n",
      "     Iteration 10, loss = 0.8352\n",
      "     validation loss = 0.9005\n",
      "epoch 43 begins: \n",
      "     Iteration 0, loss = 0.9431\n",
      "     Iteration 10, loss = 0.8682\n",
      "     validation loss = 0.9001\n",
      "epoch 44 begins: \n",
      "     Iteration 0, loss = 0.8422\n",
      "     Iteration 10, loss = 0.8019\n",
      "     validation loss = 0.8880\n",
      "epoch 45 begins: \n",
      "     Iteration 0, loss = 0.8817\n",
      "     Iteration 10, loss = 0.8710\n",
      "     validation loss = 0.9046\n",
      "epoch 46 begins: \n",
      "     Iteration 0, loss = 0.8393\n"
     ]
    }
   ],
   "source": [
    "#-------------------------TRAINING    LOOOOOOOP--------------------------------------#\n",
    "\n",
    "from loss import *\n",
    "\n",
    "train(model, train_loader, validation_loader, optimizer,\\\n",
    "      device=device, dtype=dtype, lossFun=dice_loss_single, epochs=1500, print_every=10)"
   ]
  },
  {
   "cell_type": "code",
   "execution_count": null,
   "metadata": {},
   "outputs": [],
   "source": [
    "#-------------------------SAVE THE MODEL STATE DICT----------------------------------#\n",
    "PATH = 'Vanilla_Atrous_currculum320_class_1'\n",
    "torch.save(model.state_dict(), PATH)"
   ]
  },
  {
   "cell_type": "code",
   "execution_count": null,
   "metadata": {},
   "outputs": [],
   "source": []
  }
 ],
 "metadata": {
  "kernelspec": {
   "display_name": "pytorch=1.0, CUDA=10.1",
   "language": "python",
   "name": "cs231"
  },
  "language_info": {
   "codemirror_mode": {
    "name": "ipython",
    "version": 3
   },
   "file_extension": ".py",
   "mimetype": "text/x-python",
   "name": "python",
   "nbconvert_exporter": "python",
   "pygments_lexer": "ipython3",
   "version": "3.6.8"
  }
 },
 "nbformat": 4,
 "nbformat_minor": 2
}
