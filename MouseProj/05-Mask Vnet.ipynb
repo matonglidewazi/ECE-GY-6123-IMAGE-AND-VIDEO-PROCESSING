{
 "cells": [
  {
   "cell_type": "markdown",
   "metadata": {},
   "source": [
    "# 3. Multi-class Vnet on BV"
   ]
  },
  {
   "cell_type": "code",
   "execution_count": 1,
   "metadata": {},
   "outputs": [],
   "source": [
    "import numpy as np\n",
    "import matplotlib.pyplot as plt\n",
    "\n",
    "from dataset import *\n",
    "from vnet import *\n",
    "from training import *\n",
    "from niiutility import show_image, show_batch_image\n",
    "\n",
    "%matplotlib inline\n",
    "%load_ext autoreload\n",
    "%autoreload 2"
   ]
  },
  {
   "cell_type": "markdown",
   "metadata": {},
   "source": [
    "## 3.1 Setup Torch Global Variable, load memory map "
   ]
  },
  {
   "cell_type": "code",
   "execution_count": 2,
   "metadata": {},
   "outputs": [
    {
     "name": "stdout",
     "output_type": "stream",
     "text": [
      "using GPU for training\n"
     ]
    }
   ],
   "source": [
    "import torch\n",
    "import torch.nn as nn\n",
    "import torch.optim as optim\n",
    "\n",
    "from torch.utils.data import Dataset, DataLoader, sampler, SubsetRandomSampler\n",
    "from torchvision import transforms, utils\n",
    "\n",
    "import torch.nn.functional as F  # useful stateless functions\n",
    "import torchvision.transforms as T\n",
    "\n",
    "#------------------------------- GLOBAL VARIABLES -------------------------------------#\n",
    "\n",
    "USE_GPU = True\n",
    "BATCH_SIZE = 12\n",
    "NUM_WORKERS = 6\n",
    "NUM_TRAIN = 84\n",
    "LEARNING_RATE = 1e-2\n",
    "\n",
    "dtype = torch.float32 # we will be using float throughout this tutorial\n",
    "\n",
    "if USE_GPU and torch.cuda.is_available():\n",
    "    device = torch.device('cuda')\n",
    "    print('using GPU for training')\n",
    "else:\n",
    "    device = torch.device('cpu')"
   ]
  },
  {
   "cell_type": "code",
   "execution_count": 3,
   "metadata": {},
   "outputs": [],
   "source": [
    "#-------------------------LOAD THE DATA SET-------------------------------------------#\n",
    "\n",
    "data_index = np.arange(107)\n",
    "data_index = np.delete(data_index, 46)\n",
    "dataset_trans = niiDataset(data_index, \n",
    "                         transform=transforms.Compose([\n",
    "                             downSample(4),\n",
    "                             RandomFilp(0.5),\n",
    "                             RandomAffine(15, 5)\n",
    "                         ])\n",
    "                     )\n",
    "\n",
    "#-------------------------CREATE DATA LOADER FOR TRAIN AND VAL------------------------#\n",
    "\n",
    "data_size = len(dataset_trans)\n",
    "train_loader = DataLoader(dataset_trans, batch_size=BATCH_SIZE, \\\n",
    "                    sampler=sampler.SubsetRandomSampler(range(NUM_TRAIN)),\\\n",
    "                    num_workers=NUM_WORKERS)\n",
    "validation_loader = DataLoader(dataset_trans, batch_size=BATCH_SIZE,\n",
    "                    sampler=sampler.SubsetRandomSampler(range(NUM_TRAIN,data_size)),\\\n",
    "                    num_workers=NUM_WORKERS)"
   ]
  },
  {
   "cell_type": "markdown",
   "metadata": {},
   "source": [
    "* Print first 4 batch of data"
   ]
  },
  {
   "cell_type": "code",
   "execution_count": null,
   "metadata": {},
   "outputs": [],
   "source": [
    "for i_batch, sample_batched in enumerate(train_loader):\n",
    "    print(i_batch, sample_batched['image'].size(), \\\n",
    "          sample_batched['label'].size())\n",
    "    # observe 4th batch and stop.\n",
    "    if i_batch == 3:\n",
    "        show_batch_image(sample_batched['image'],sample_batched['label'],BATCH_SIZE)\n",
    "        break"
   ]
  },
  {
   "cell_type": "code",
   "execution_count": 4,
   "metadata": {
    "scrolled": true
   },
   "outputs": [],
   "source": [
    "from vnet_mask import VNetMask\n",
    "#-------------------------NEW MODEL INIT WEIGHT--------------------------------------#\n",
    "\n",
    "model = VNetMask()\n",
    "model.apply(weights_init)\n",
    "optimizer = optim.Adam(model.parameters(), lr=LEARNING_RATE)"
   ]
  },
  {
   "cell_type": "code",
   "execution_count": null,
   "metadata": {
    "scrolled": true
   },
   "outputs": [
    {
     "name": "stdout",
     "output_type": "stream",
     "text": [
      "epoch 0 begins: \n",
      "     Iteration 0, loss = 0.8731\n",
      "     validation loss = 0.6749\n",
      "epoch 1 begins: \n",
      "     Iteration 0, loss = 0.7681\n",
      "     validation loss = 0.6351\n",
      "epoch 2 begins: \n",
      "     Iteration 0, loss = 0.7760\n",
      "     validation loss = 0.5999\n",
      "epoch 3 begins: \n",
      "     Iteration 0, loss = 0.7766\n",
      "     validation loss = 0.6011\n",
      "epoch 4 begins: \n",
      "     Iteration 0, loss = 0.7534\n",
      "     validation loss = 0.5788\n",
      "epoch 5 begins: \n",
      "     Iteration 0, loss = 0.7171\n",
      "     validation loss = 0.5910\n",
      "epoch 6 begins: \n",
      "     Iteration 0, loss = 0.6713\n",
      "     validation loss = 0.5632\n",
      "epoch 7 begins: \n",
      "     Iteration 0, loss = 0.6836\n",
      "     validation loss = 0.5839\n",
      "epoch 8 begins: \n",
      "     Iteration 0, loss = 0.6595\n",
      "     validation loss = 0.7085\n",
      "epoch 9 begins: \n",
      "     Iteration 0, loss = 0.6922\n",
      "     validation loss = 0.5328\n",
      "epoch 10 begins: \n",
      "     Iteration 0, loss = 0.6939\n",
      "     validation loss = 0.5263\n",
      "epoch 11 begins: \n",
      "     Iteration 0, loss = 0.5734\n",
      "     validation loss = 0.4728\n",
      "epoch 12 begins: \n",
      "     Iteration 0, loss = 0.6361\n",
      "     validation loss = 0.5776\n",
      "epoch 13 begins: \n",
      "     Iteration 0, loss = 0.5565\n",
      "     validation loss = 0.4608\n",
      "epoch 14 begins: \n",
      "     Iteration 0, loss = 0.5285\n",
      "     validation loss = 0.4552\n",
      "epoch 15 begins: \n",
      "     Iteration 0, loss = 0.5005\n",
      "     validation loss = 0.4346\n",
      "epoch 16 begins: \n",
      "     Iteration 0, loss = 0.5251\n",
      "     validation loss = 0.5203\n",
      "epoch 17 begins: \n",
      "     Iteration 0, loss = 0.5078\n",
      "     validation loss = 0.4301\n",
      "epoch 18 begins: \n",
      "     Iteration 0, loss = 0.5577\n",
      "     validation loss = 0.4323\n",
      "epoch 19 begins: \n",
      "     Iteration 0, loss = 0.4220\n",
      "     validation loss = 0.4266\n",
      "epoch 20 begins: \n",
      "     Iteration 0, loss = 0.4632\n",
      "     validation loss = 0.3885\n",
      "epoch 21 begins: \n",
      "     Iteration 0, loss = 0.5584\n",
      "     validation loss = 0.4193\n",
      "epoch 22 begins: \n",
      "     Iteration 0, loss = 0.4800\n",
      "     validation loss = 0.4113\n",
      "epoch 23 begins: \n",
      "     Iteration 0, loss = 0.4162\n",
      "     validation loss = 0.4058\n",
      "epoch 24 begins: \n",
      "     Iteration 0, loss = 0.4543\n",
      "     validation loss = 0.3922\n",
      "epoch 25 begins: \n",
      "     Iteration 0, loss = 0.5096\n",
      "     validation loss = 0.3880\n",
      "epoch 26 begins: \n",
      "     Iteration 0, loss = 0.4089\n",
      "     validation loss = 0.3874\n",
      "epoch 27 begins: \n",
      "     Iteration 0, loss = 0.3960\n",
      "     validation loss = 0.3689\n",
      "epoch 28 begins: \n",
      "     Iteration 0, loss = 0.4682\n",
      "     validation loss = 0.3676\n",
      "epoch 29 begins: \n",
      "     Iteration 0, loss = 0.4268\n",
      "     validation loss = 0.3818\n",
      "epoch 30 begins: \n",
      "     Iteration 0, loss = 0.3815\n",
      "     validation loss = 0.4258\n",
      "epoch 31 begins: \n",
      "     Iteration 0, loss = 0.4114\n",
      "     validation loss = 0.3668\n",
      "epoch 32 begins: \n",
      "     Iteration 0, loss = 0.3943\n",
      "     validation loss = 0.3518\n",
      "epoch 33 begins: \n",
      "     Iteration 0, loss = 0.4236\n",
      "     validation loss = 0.5270\n",
      "epoch 34 begins: \n",
      "     Iteration 0, loss = 0.4444\n",
      "     validation loss = 0.3665\n",
      "epoch 35 begins: \n",
      "     Iteration 0, loss = 0.3420\n",
      "     validation loss = 0.3256\n",
      "epoch 36 begins: \n",
      "     Iteration 0, loss = 0.3840\n",
      "     validation loss = 0.3307\n",
      "epoch 37 begins: \n",
      "     Iteration 0, loss = 0.4059\n",
      "     validation loss = 0.3382\n",
      "epoch 38 begins: \n",
      "     Iteration 0, loss = 0.3590\n",
      "     validation loss = 0.3329\n",
      "epoch 39 begins: \n",
      "     Iteration 0, loss = 0.3876\n",
      "     validation loss = 0.3175\n",
      "epoch 40 begins: \n",
      "     Iteration 0, loss = 0.3998\n",
      "     validation loss = 0.3021\n",
      "epoch 41 begins: \n",
      "     Iteration 0, loss = 0.3868\n"
     ]
    }
   ],
   "source": [
    "train2(model, train_loader, validation_loader, optimizer,\\\n",
    "      device=device, dtype=dtype, epochs=1500, print_every=100)"
   ]
  },
  {
   "cell_type": "code",
   "execution_count": null,
   "metadata": {},
   "outputs": [],
   "source": [
    "#-------------------------SAVE THE MODEL STATE DICT----------------------------------#\n",
    "PATH = 'Vet_Mask_class_1'\n",
    "torch.save(model.state_dict(), PATH)"
   ]
  },
  {
   "cell_type": "code",
   "execution_count": null,
   "metadata": {},
   "outputs": [],
   "source": []
  }
 ],
 "metadata": {
  "kernelspec": {
   "display_name": "pytorch=1.0, CUDA=10.1",
   "language": "python",
   "name": "cs231"
  },
  "language_info": {
   "codemirror_mode": {
    "name": "ipython",
    "version": 3
   },
   "file_extension": ".py",
   "mimetype": "text/x-python",
   "name": "python",
   "nbconvert_exporter": "python",
   "pygments_lexer": "ipython3",
   "version": "3.6.8"
  }
 },
 "nbformat": 4,
 "nbformat_minor": 2
}
