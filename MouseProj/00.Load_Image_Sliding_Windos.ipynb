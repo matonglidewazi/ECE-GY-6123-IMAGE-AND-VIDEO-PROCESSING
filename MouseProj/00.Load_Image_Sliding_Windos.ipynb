{
 "cells": [
  {
   "cell_type": "code",
   "execution_count": 1,
   "metadata": {},
   "outputs": [],
   "source": [
    "from niiutility import *\n",
    "\n",
    "%matplotlib inline\n",
    "%load_ext autoreload\n",
    "%autoreload 2"
   ]
  },
  {
   "cell_type": "code",
   "execution_count": 5,
   "metadata": {
    "scrolled": false
   },
   "outputs": [],
   "source": [
    "import os\n",
    "\n",
    "dict_path = 'SWDict.npy'\n",
    "exists = os.path.isfile(dict_path)\n",
    "\n",
    "if exists:\n",
    "    dict = np.load(dict_path).item()\n",
    "else:\n",
    "    \n",
    "    data_index = np.arange(107)\n",
    "    data_index = np.delete(data_index, 46)\n",
    "\n",
    "    dict = generateSW(data_index)\n",
    "    np.save(dict_path, dict) "
   ]
  },
  {
   "cell_type": "code",
   "execution_count": 6,
   "metadata": {},
   "outputs": [
    {
     "name": "stdout",
     "output_type": "stream",
     "text": [
      "90258 sliding window loaded.\n"
     ]
    }
   ],
   "source": [
    "print('{} sliding window loaded.'.format (len(dict)))"
   ]
  },
  {
   "cell_type": "code",
   "execution_count": null,
   "metadata": {},
   "outputs": [],
   "source": []
  }
 ],
 "metadata": {
  "kernelspec": {
   "display_name": "IVP",
   "language": "python",
   "name": "cs231"
  },
  "language_info": {
   "codemirror_mode": {
    "name": "ipython",
    "version": 3
   },
   "file_extension": ".py",
   "mimetype": "text/x-python",
   "name": "python",
   "nbconvert_exporter": "python",
   "pygments_lexer": "ipython3",
   "version": "3.7.2"
  }
 },
 "nbformat": 4,
 "nbformat_minor": 2
}
