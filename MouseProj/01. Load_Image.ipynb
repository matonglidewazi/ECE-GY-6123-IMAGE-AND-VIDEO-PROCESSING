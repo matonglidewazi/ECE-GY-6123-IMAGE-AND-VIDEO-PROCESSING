{
 "cells": [
  {
   "cell_type": "code",
   "execution_count": 1,
   "metadata": {
    "scrolled": true
   },
   "outputs": [],
   "source": [
    "import os\n",
    "import numpy as np\n",
    "from niiutility import loadallnii, loadnii, show_image\n",
    "\n",
    "import matplotlib.pyplot as plt\n",
    "%matplotlib inline\n",
    "%load_ext autoreload\n",
    "%autoreload 2"
   ]
  },
  {
   "cell_type": "code",
   "execution_count": null,
   "metadata": {},
   "outputs": [],
   "source": [
    "import torch\n",
    "import torch.nn as nn\n",
    "import torch.optim as optim\n",
    "\n",
    "from torch.utils.data import Dataset, DataLoader, sampler, SubsetRandomSampler\n",
    "from torchvision import transforms, utils\n",
    "\n",
    "import torch.nn.functional as F  # useful stateless functions\n",
    "import torchvision.transforms as T\n",
    "\n",
    "#------------------------------- GLOBAL VARIABLES -------------------------------------#\n",
    "\n",
    "USE_GPU = True\n",
    "BATCH_SIZE = 2\n",
    "NUM_WORKERS = 4\n",
    "NUM_TRAIN = 80\n",
    "LEARNING_RATE = 1e-4\n",
    "\n",
    "print(torch.cuda.is_available())\n",
    "\n",
    "dtype = torch.float32 # we will be using float throughout this tutorial\n",
    "\n",
    "if USE_GPU and torch.cuda.is_available():\n",
    "    device = torch.device('cuda')\n",
    "    print('using cuda')\n",
    "else:\n",
    "    device = torch.device('cpu')\n",
    "    print('using cpu')"
   ]
  },
  {
   "cell_type": "markdown",
   "metadata": {},
   "source": [
    "## 1. Loading the Image and Label\n",
    "* using (nibabel)[https://nipy.org/nibabel/nibabel_images.html]\n",
    "* the data path is img_xx\n",
    "* the label path is bv_bodyxx"
   ]
  },
  {
   "cell_type": "markdown",
   "metadata": {},
   "source": [
    "# 2. Data Fixing\n",
    "* reshape imgs into 192*256*256\n",
    "* drop out bad inputs\n",
    "* do not do mean reduction here, later in conversion!"
   ]
  },
  {
   "cell_type": "code",
   "execution_count": 2,
   "metadata": {
    "scrolled": true
   },
   "outputs": [
    {
     "name": "stdout",
     "output_type": "stream",
     "text": [
      "image index loaded: 0\n",
      "image index loaded: 1\n",
      "image index loaded: 2\n",
      "image index loaded: 3\n",
      "image index loaded: 4\n",
      "image index loaded: 5\n",
      "image index loaded: 6\n",
      "image index loaded: 7\n",
      "image index loaded: 8\n",
      "image index loaded: 9\n",
      "image index loaded: 10\n",
      "image index loaded: 11\n",
      "image index loaded: 12\n",
      "image index loaded: 13\n",
      "image index loaded: 14\n",
      "image index loaded: 15\n",
      "image index loaded: 16\n",
      "image index loaded: 17\n",
      "image index loaded: 18\n",
      "image index loaded: 19\n",
      "image index loaded: 20\n",
      "image index loaded: 21\n",
      "image index loaded: 22\n",
      "image index loaded: 23\n",
      "image index loaded: 24\n",
      "image index loaded: 25\n",
      "image index loaded: 26\n",
      "image index loaded: 27\n",
      "image index loaded: 28\n",
      "image index loaded: 29\n",
      "image index loaded: 30\n",
      "image index loaded: 31\n",
      "image index loaded: 32\n",
      "image index loaded: 33\n",
      "image index loaded: 34\n",
      "image index loaded: 35\n",
      "image index loaded: 36\n",
      "image index loaded: 37\n",
      "image index loaded: 38\n",
      "image index loaded: 39\n",
      "image index loaded: 40\n",
      "image index loaded: 41\n",
      "image index loaded: 42\n",
      "image index loaded: 43\n",
      "image index loaded: 44\n",
      "image index loaded: 45\n",
      "image index loaded: 47\n",
      "image index loaded: 48\n",
      "image index loaded: 49\n",
      "image index loaded: 50\n",
      "image index loaded: 51\n",
      "image index loaded: 52\n",
      "image index loaded: 53\n",
      "image index loaded: 54\n",
      "image index loaded: 55\n",
      "image index loaded: 56\n",
      "image index loaded: 57\n",
      "image index loaded: 58\n",
      "image index loaded: 59\n",
      "image index loaded: 60\n",
      "image index loaded: 61\n",
      "image index loaded: 62\n",
      "image index loaded: 63\n",
      "image index loaded: 64\n",
      "image index loaded: 65\n",
      "image index loaded: 66\n",
      "image index loaded: 67\n",
      "image index loaded: 68\n",
      "image index loaded: 69\n",
      "image index loaded: 70\n",
      "image index loaded: 71\n",
      "image index loaded: 72\n",
      "image index loaded: 73\n",
      "image index loaded: 74\n",
      "image index loaded: 75\n",
      "image index loaded: 76\n",
      "image index loaded: 77\n",
      "image index loaded: 78\n",
      "image index loaded: 79\n",
      "image index loaded: 80\n",
      "image index loaded: 81\n",
      "image index loaded: 82\n",
      "image index loaded: 83\n",
      "image index loaded: 84\n",
      "image index loaded: 85\n",
      "image index loaded: 86\n",
      "image index loaded: 87\n",
      "image index loaded: 88\n",
      "image index loaded: 89\n",
      "image index loaded: 90\n",
      "image index loaded: 91\n",
      "image index loaded: 92\n",
      "image index loaded: 93\n",
      "image index loaded: 94\n",
      "image index loaded: 95\n",
      "image index loaded: 96\n",
      "image index loaded: 97\n",
      "image index loaded: 98\n",
      "image index loaded: 99\n",
      "image index loaded: 100\n",
      "image index loaded: 101\n",
      "image index loaded: 102\n",
      "image index loaded: 103\n",
      "image index loaded: 104\n",
      "image index loaded: 105\n",
      "image index loaded: 106\n"
     ]
    }
   ],
   "source": [
    "%reload_ext autoreload\n",
    "bad_index = np.array([46])\n",
    "image, label = loadallnii(107, bad_index, 192, 256, 256, verbose=False)"
   ]
  },
  {
   "cell_type": "code",
   "execution_count": 3,
   "metadata": {},
   "outputs": [],
   "source": [
    "np.save('bv_body_data/predict/image.npy', image)\n",
    "np.save('bv_body_data/predict/label.npy', label)"
   ]
  },
  {
   "cell_type": "code",
   "execution_count": null,
   "metadata": {
    "scrolled": false
   },
   "outputs": [],
   "source": [
    "import torch\n",
    "import torch.nn as nn\n",
    "import torch.optim as optim\n",
    "from torch.utils.data import DataLoader\n",
    "from torch.utils.data import sampler\n",
    "import torch.nn.functional as F  # useful stateless functions\n",
    "\n",
    "import torchvision.datasets as dset\n",
    "import torchvision.transforms as T\n",
    "\n",
    "from classifiers import *\n",
    "\n",
    "USE_GPU = False\n",
    "\n",
    "dtype = torch.float32 # we will be using float\n",
    "\n",
    "if USE_GPU and torch.cuda.is_available():\n",
    "    device = torch.device('cuda')\n",
    "else:\n",
    "    device = torch.device('cpu')"
   ]
  },
  {
   "cell_type": "code",
   "execution_count": null,
   "metadata": {},
   "outputs": [],
   "source": [
    "X, Y = loadnii(0)\n",
    "X = zero_padding(X, 256, 256, 256)\n",
    "Y = zero_padding(Y, 256, 256, 256)\n",
    "\n",
    "show_image(X, Y)\n",
    "\n",
    "X = X[::4,::4,::4]\n",
    "Y = Y[::4,::4,::4]\n",
    "\n",
    "X = (X - np.mean(X))/np.std(X)\n",
    "\n",
    "X = X.reshape(1, 1, 64, 64, 64)\n",
    "Y = Y.reshape(1, 64, 64, 64)\n",
    "\n",
    "Xtr = torch.tensor(X)\n",
    "Ytr = torch.tensor(Y)\n"
   ]
  },
  {
   "cell_type": "code",
   "execution_count": null,
   "metadata": {},
   "outputs": [],
   "source": [
    "# testing FCN Net on a single image\n",
    "\n",
    "from training import *\n",
    "model = Dcon3D(64)\n",
    "shape_test(model, device, dtype)\n",
    "\n",
    "learning_rate = 1e-3\n",
    "optimizer = optim.Adam(model.parameters(), lr=learning_rate)\n",
    "print('first loss should be around ln3!')\n",
    "overfit_test(model, device, dtype, optimizer, Xtr, Ytr, epochs=256)"
   ]
  },
  {
   "cell_type": "code",
   "execution_count": null,
   "metadata": {},
   "outputs": [],
   "source": []
  },
  {
   "cell_type": "code",
   "execution_count": null,
   "metadata": {
    "scrolled": false
   },
   "outputs": [],
   "source": [
    "from vnet import *\n",
    "from training import *\n",
    "\n",
    "# testing VNet on a single image\n",
    "\n",
    "learning_rate = 1e-3\n",
    "model2 = VNet(classnum=3)\n",
    "shape_test(model2, device, dtype)\n",
    "optimizer = optim.Adam(model2.parameters(), lr=learning_rate)\n",
    "print('first loss should be around ln3!')\n",
    "overfit_test(model2, device, dtype, optimizer, Xtr, Ytr, epochs=256)"
   ]
  },
  {
   "cell_type": "code",
   "execution_count": null,
   "metadata": {},
   "outputs": [],
   "source": [
    "def overfit_show(model, x, y):\n",
    "    model.eval()  # set model to evaluation mode\n",
    "    with torch.no_grad():\n",
    "        x = x.to(device=device, dtype=torch.float)  # move to device, e.g. GPU\n",
    "        y = y.to(device=device, dtype=torch.long)\n",
    "        \n",
    "        scoresTorch = model(x)\n",
    "        scores = scoresTorch.numpy()\n",
    "        scores = scores.reshape(3, 64, 64, 64)\n",
    "        label = y.numpy()\n",
    "        label = label.reshape(64, 64, 64)\n",
    "         \n",
    "        class0map = scores[0]\n",
    "        class1map = scores[1]\n",
    "        class2map = scores[2]\n",
    "        \n",
    "        min0 = np.amin(class0map)\n",
    "        max0= np.amax(class0map)\n",
    "        \n",
    "        min1 = np.amin(class1map)\n",
    "        max1= np.amax(class1map)\n",
    "        \n",
    "        min2 = np.amin(class2map)\n",
    "        max2= np.amax(class2map)\n",
    "        \n",
    "        class0map = (class0map - min0)/(max0-min0)\n",
    "        class1map = (class1map - min1)/(max1-min1)\n",
    "        class2map = (class2map - min2)/(max2-min2)\n",
    "        \n",
    "        fig, ax = plt.subplots(1,4)\n",
    "\n",
    "        slicing_index = 32\n",
    "\n",
    "        ax[0].imshow(class0map[slicing_index], cmap='gray')\n",
    "        ax[1].imshow(class1map[slicing_index], cmap='gray')\n",
    "        ax[2].imshow(class2map[slicing_index], cmap='gray')\n",
    "        ax[3].imshow(label[slicing_index])\n",
    "        \n",
    "        plt.show()\n",
    "        "
   ]
  },
  {
   "cell_type": "code",
   "execution_count": null,
   "metadata": {},
   "outputs": [],
   "source": [
    "overfit_show(model, Xtr, Ytr)"
   ]
  },
  {
   "cell_type": "code",
   "execution_count": null,
   "metadata": {},
   "outputs": [],
   "source": [
    "from vnet import *\n",
    "\n",
    "def shape_test(model):\n",
    "    x = torch.zeros((1, 1, 32, 32, 32), dtype=dtype)\n",
    "    scores = model(x)\n",
    "    print(scores.size())\n",
    "\n",
    "shape_vnet = VNet(3)\n",
    "shape_test(shape_vnet, device)"
   ]
  },
  {
   "cell_type": "code",
   "execution_count": null,
   "metadata": {},
   "outputs": [],
   "source": []
  }
 ],
 "metadata": {
  "kernelspec": {
   "display_name": "IVP Remote",
   "language": "python",
   "name": "cs231"
  },
  "language_info": {
   "codemirror_mode": {
    "name": "ipython",
    "version": 3
   },
   "file_extension": ".py",
   "mimetype": "text/x-python",
   "name": "python",
   "nbconvert_exporter": "python",
   "pygments_lexer": "ipython3",
   "version": "3.6.8"
  }
 },
 "nbformat": 4,
 "nbformat_minor": 2
}
