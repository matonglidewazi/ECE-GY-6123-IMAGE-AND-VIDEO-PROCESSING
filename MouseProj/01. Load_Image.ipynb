{
 "cells": [
  {
   "cell_type": "code",
   "execution_count": 1,
   "metadata": {
    "scrolled": true
   },
   "outputs": [],
   "source": [
    "import os\n",
    "import numpy as np\n",
    "from niiutility import loadallnii, loadnii, show_image\n",
    "\n",
    "import matplotlib.pyplot as plt\n",
    "%matplotlib inline\n",
    "%load_ext autoreload\n",
    "%autoreload 2"
   ]
  },
  {
   "cell_type": "code",
   "execution_count": 2,
   "metadata": {},
   "outputs": [
    {
     "name": "stdout",
     "output_type": "stream",
     "text": [
      "True\n",
      "using cuda\n"
     ]
    }
   ],
   "source": [
    "import torch\n",
    "import torch.nn as nn\n",
    "import torch.optim as optim\n",
    "\n",
    "from torch.utils.data import Dataset, DataLoader, sampler, SubsetRandomSampler\n",
    "from torchvision import transforms, utils\n",
    "\n",
    "import torch.nn.functional as F  # useful stateless functions\n",
    "import torchvision.transforms as T\n",
    "\n",
    "#------------------------------- GLOBAL VARIABLES -------------------------------------#\n",
    "\n",
    "USE_GPU = True\n",
    "BATCH_SIZE = 2\n",
    "NUM_WORKERS = 4\n",
    "NUM_TRAIN = 80\n",
    "LEARNING_RATE = 1e-4\n",
    "\n",
    "print(torch.cuda.is_available())\n",
    "\n",
    "dtype = torch.float32 # we will be using float throughout this tutorial\n",
    "\n",
    "if USE_GPU and torch.cuda.is_available():\n",
    "    device = torch.device('cuda')\n",
    "    print('using cuda')\n",
    "else:\n",
    "    device = torch.device('cpu')\n",
    "    print('using cpu')"
   ]
  },
  {
   "cell_type": "markdown",
   "metadata": {},
   "source": [
    "## 1. Loading the Image and Label\n",
    "* using (nibabel)[https://nipy.org/nibabel/nibabel_images.html]\n",
    "* the data path is img_xx\n",
    "* the label path is bv_bodyxx"
   ]
  },
  {
   "cell_type": "markdown",
   "metadata": {},
   "source": [
    "# 2. Data Fixing\n",
    "* reshape imgs into 192*256*256\n",
    "* drop out bad inputs\n",
    "* do not do mean reduction here, later in conversion!"
   ]
  },
  {
   "cell_type": "code",
   "execution_count": null,
   "metadata": {
    "scrolled": false
   },
   "outputs": [],
   "source": [
    "from niiutility import *\n",
    "\n",
    "%reload_ext autoreload\n",
    "bad_index = np.array([46])\n",
    "#image, label = loadallnii(107, bad_index, 192, 256, 256, verbose=False)\n",
    "\n",
    "data_index = np.arange(107)\n",
    "data_index = np.delete(data_index, 46)\n",
    "\n",
    "for idx in data_index:\n",
    "    loadnii(idx, 128, 192, 192, mode='zoom')"
   ]
  },
  {
   "cell_type": "code",
   "execution_count": null,
   "metadata": {},
   "outputs": [],
   "source": [
    "np.save('bv_body_data/predict/image.npy', image)\n",
    "np.save('bv_body_data/predict/label.npy', label)"
   ]
  },
  {
   "cell_type": "code",
   "execution_count": null,
   "metadata": {
    "scrolled": false
   },
   "outputs": [],
   "source": [
    "import torch\n",
    "import torch.nn as nn\n",
    "import torch.optim as optim\n",
    "from torch.utils.data import DataLoader\n",
    "from torch.utils.data import sampler\n",
    "import torch.nn.functional as F  # useful stateless functions\n",
    "\n",
    "import torchvision.datasets as dset\n",
    "import torchvision.transforms as T\n",
    "\n",
    "from classifiers import *\n",
    "\n",
    "USE_GPU = False\n",
    "\n",
    "dtype = torch.float32 # we will be using float\n",
    "\n",
    "if USE_GPU and torch.cuda.is_available():\n",
    "    device = torch.device('cuda')\n",
    "else:\n",
    "    device = torch.device('cpu')"
   ]
  },
  {
   "cell_type": "code",
   "execution_count": null,
   "metadata": {},
   "outputs": [],
   "source": [
    "X, Y = loadnii(0)\n",
    "X = zero_padding(X, 256, 256, 256)\n",
    "Y = zero_padding(Y, 256, 256, 256)\n",
    "\n",
    "show_image(X, Y)\n",
    "\n",
    "X = X[::4,::4,::4]\n",
    "Y = Y[::4,::4,::4]\n",
    "\n",
    "X = (X - np.mean(X))/np.std(X)\n",
    "\n",
    "X = X.reshape(1, 1, 64, 64, 64)\n",
    "Y = Y.reshape(1, 64, 64, 64)\n",
    "\n",
    "Xtr = torch.tensor(X)\n",
    "Ytr = torch.tensor(Y)\n"
   ]
  },
  {
   "cell_type": "code",
   "execution_count": null,
   "metadata": {},
   "outputs": [],
   "source": [
    "# testing FCN Net on a single image\n",
    "\n",
    "from training import *\n",
    "model = Dcon3D(64)\n",
    "shape_test(model, device, dtype)\n",
    "\n",
    "learning_rate = 1e-3\n",
    "optimizer = optim.Adam(model.parameters(), lr=learning_rate)\n",
    "print('first loss should be around ln3!')\n",
    "overfit_test(model, device, dtype, optimizer, Xtr, Ytr, epochs=256)"
   ]
  },
  {
   "cell_type": "code",
   "execution_count": null,
   "metadata": {},
   "outputs": [],
   "source": []
  },
  {
   "cell_type": "code",
   "execution_count": null,
   "metadata": {
    "scrolled": false
   },
   "outputs": [],
   "source": [
    "from vnet import *\n",
    "from training import *\n",
    "\n",
    "# testing VNet on a single image\n",
    "\n",
    "learning_rate = 1e-3\n",
    "model2 = VNet(classnum=3)\n",
    "shape_test(model2, device, dtype)\n",
    "optimizer = optim.Adam(model2.parameters(), lr=learning_rate)\n",
    "print('first loss should be around ln3!')\n",
    "overfit_test(model2, device, dtype, optimizer, Xtr, Ytr, epochs=256)"
   ]
  },
  {
   "cell_type": "code",
   "execution_count": null,
   "metadata": {},
   "outputs": [],
   "source": [
    "def overfit_show(model, x, y):\n",
    "    model.eval()  # set model to evaluation mode\n",
    "    with torch.no_grad():\n",
    "        x = x.to(device=device, dtype=torch.float)  # move to device, e.g. GPU\n",
    "        y = y.to(device=device, dtype=torch.long)\n",
    "        \n",
    "        scoresTorch = model(x)\n",
    "        scores = scoresTorch.numpy()\n",
    "        scores = scores.reshape(3, 64, 64, 64)\n",
    "        label = y.numpy()\n",
    "        label = label.reshape(64, 64, 64)\n",
    "         \n",
    "        class0map = scores[0]\n",
    "        class1map = scores[1]\n",
    "        class2map = scores[2]\n",
    "        \n",
    "        min0 = np.amin(class0map)\n",
    "        max0= np.amax(class0map)\n",
    "        \n",
    "        min1 = np.amin(class1map)\n",
    "        max1= np.amax(class1map)\n",
    "        \n",
    "        min2 = np.amin(class2map)\n",
    "        max2= np.amax(class2map)\n",
    "        \n",
    "        class0map = (class0map - min0)/(max0-min0)\n",
    "        class1map = (class1map - min1)/(max1-min1)\n",
    "        class2map = (class2map - min2)/(max2-min2)\n",
    "        \n",
    "        fig, ax = plt.subplots(1,4)\n",
    "\n",
    "        slicing_index = 32\n",
    "\n",
    "        ax[0].imshow(class0map[slicing_index], cmap='gray')\n",
    "        ax[1].imshow(class1map[slicing_index], cmap='gray')\n",
    "        ax[2].imshow(class2map[slicing_index], cmap='gray')\n",
    "        ax[3].imshow(label[slicing_index])\n",
    "        \n",
    "        plt.show()\n",
    "        "
   ]
  },
  {
   "cell_type": "code",
   "execution_count": null,
   "metadata": {},
   "outputs": [],
   "source": [
    "overfit_show(model, Xtr, Ytr)"
   ]
  },
  {
   "cell_type": "code",
   "execution_count": null,
   "metadata": {},
   "outputs": [],
   "source": [
    "from vnet import *\n",
    "\n",
    "def shape_test(model):\n",
    "    x = torch.zeros((1, 1, 32, 32, 32), dtype=dtype)\n",
    "    scores = model(x)\n",
    "    print(scores.size())\n",
    "\n",
    "shape_vnet = VNet(3)\n",
    "shape_test(shape_vnet, device)"
   ]
  },
  {
   "cell_type": "code",
   "execution_count": null,
   "metadata": {},
   "outputs": [],
   "source": []
  }
 ],
 "metadata": {
  "kernelspec": {
   "display_name": "pytorch=1.0, CUDA=10.1",
   "language": "python",
   "name": "cs231"
  },
  "language_info": {
   "codemirror_mode": {
    "name": "ipython",
    "version": 3
   },
   "file_extension": ".py",
   "mimetype": "text/x-python",
   "name": "python",
   "nbconvert_exporter": "python",
   "pygments_lexer": "ipython3",
   "version": "3.6.8"
  }
 },
 "nbformat": 4,
 "nbformat_minor": 2
}
